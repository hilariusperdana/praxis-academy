{
 "metadata": {
  "language_info": {
   "codemirror_mode": {
    "name": "ipython",
    "version": 3
   },
   "file_extension": ".py",
   "mimetype": "text/x-python",
   "name": "python",
   "nbconvert_exporter": "python",
   "pygments_lexer": "ipython3",
   "version": "3.8.5-final"
  },
  "orig_nbformat": 2,
  "kernelspec": {
   "name": "python38564bit402e8155beee42f4851d36b92de6a131",
   "display_name": "Python 3.8.5 64-bit",
   "language": "python"
  }
 },
 "nbformat": 4,
 "nbformat_minor": 2,
 "cells": [
  {
   "cell_type": "code",
   "execution_count": 1,
   "metadata": {},
   "outputs": [
    {
     "output_type": "error",
     "ename": "SyntaxError",
     "evalue": "invalid syntax (<ipython-input-1-c0146c2165cd>, line 2)",
     "traceback": [
      "\u001b[0;36m  File \u001b[0;32m\"<ipython-input-1-c0146c2165cd>\"\u001b[0;36m, line \u001b[0;32m2\u001b[0m\n\u001b[0;31m    from 1 import Person\u001b[0m\n\u001b[0m         ^\u001b[0m\n\u001b[0;31mSyntaxError\u001b[0m\u001b[0;31m:\u001b[0m invalid syntax\n"
     ]
    }
   ],
   "source": [
    "import unittest\n",
    "from 1 import Person\n",
    "\n",
    "class Test(unittest.TestCase):\n",
    "    per = Person()\n",
    "\n",
    "    def test_person(self):\n",
    "        result = self.per.setPerson(50)\n",
    "        self.assertEqual(self.per.getPerson(), 80)\n",
    "\n",
    "if __name__ == '__main__':\n",
    "    unittest.main()"
   ]
  },
  {
   "cell_type": "code",
   "execution_count": null,
   "metadata": {},
   "outputs": [],
   "source": [
    "import unittest\n",
    "from 2 import mahasiswa, kampus\n",
    "\n",
    "class Test(unittest.TestCase):\n",
    "\n",
    "    def test_mahasiswa(self):\n",
    "        result = kampus(\"\")\n",
    "        self.assertEqual(result., \"\")\n",
    "\n",
    "    def test_kuliahj(self):\n",
    "        mary = kampus(\"\")\n",
    "        self.assertEqual\n",
    "\n",
    "if __name__ == '__main__':\n",
    "    unittest.main()\n"
   ]
  },
  {
   "cell_type": "code",
   "execution_count": 2,
   "metadata": {},
   "outputs": [
    {
     "output_type": "error",
     "ename": "SyntaxError",
     "evalue": "invalid syntax (<ipython-input-2-b5dc26bd0039>, line 2)",
     "traceback": [
      "\u001b[0;36m  File \u001b[0;32m\"<ipython-input-2-b5dc26bd0039>\"\u001b[0;36m, line \u001b[0;32m2\u001b[0m\n\u001b[0;31m    from 3 import bubble_sort\u001b[0m\n\u001b[0m         ^\u001b[0m\n\u001b[0;31mSyntaxError\u001b[0m\u001b[0;31m:\u001b[0m invalid syntax\n"
     ]
    }
   ],
   "source": [
    "import unittest\n",
    "from 3 import bubble_sort\n",
    "\n",
    "class TestSort(unittest.TestCase):\n",
    "\n",
    "    def test_sort(self):\n",
    "        lst = [4,3,5,1,2]\n",
    "        self.assertEqual(bubble_sort(lst), lst.sort())\n",
    "    \n",
    "if __name__ == '__main__':\n",
    "    unittest.main()"
   ]
  },
  {
   "cell_type": "code",
   "execution_count": null,
   "metadata": {},
   "outputs": [],
   "source": [
    "import unittest\n",
    "from 4 import fib,fib2\n",
    "\n",
    "class TestFibo(unittest.TestCase):\n",
    "\n",
    "    def test_fibo(self):\n",
    "        self.assertEqual(fib2(10), [0, 1, 1, 2, 3, 5, 8])\n",
    "    \n",
    "if __name__ == '__main__':\n",
    "    unittest.main()"
   ]
  },
  {
   "cell_type": "code",
   "execution_count": null,
   "metadata": {},
   "outputs": [],
   "source": [
    "import unittest\n",
    "import pickle\n",
    "from 5 import Animal, Sheep\n",
    "\n",
    "class TestSort(unittest.TestCase):\n",
    "\n",
    "    def test_animal(self):\n",
    "        result = Sheep(\"White\")\n",
    "        self.assertEqual(result.color, \"White\")\n",
    "\n",
    "    def test_paws(self):\n",
    "        mary = Sheep(\"white\")\n",
    "        self.assertEqual(mary.number_of_paws, 4)\n",
    "\n",
    "if __name__ == '__main__':\n",
    "    unittest.main()\n"
   ]
  }
 ]
}