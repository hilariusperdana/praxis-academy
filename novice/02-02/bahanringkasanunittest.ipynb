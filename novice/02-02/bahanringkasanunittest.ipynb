{
 "metadata": {
  "language_info": {
   "codemirror_mode": {
    "name": "ipython",
    "version": 3
   },
   "file_extension": ".py",
   "mimetype": "text/x-python",
   "name": "python",
   "nbconvert_exporter": "python",
   "pygments_lexer": "ipython3",
   "version": 3
  },
  "orig_nbformat": 2
 },
 "nbformat": 4,
 "nbformat_minor": 2,
 "cells": [
  {
   "cell_type": "code",
   "execution_count": null,
   "metadata": {},
   "outputs": [],
   "source": [
    "class Person:\n",
    "    def __init__(self, name):\n",
    "        self.name = name\n",
    "\n",
    "    def say_hi(self):\n",
    "        print('Hello, my name is', self.name)\n",
    "\n",
    "\n",
    "p = Person('Swaroop')\n",
    "p.say_hi()\n",
    "# The previous 2 lines can also be written as\n",
    "# Person('Swaroop).say_hi()"
   ]
  },
  {
   "cell_type": "code",
   "execution_count": null,
   "metadata": {},
   "outputs": [],
   "source": [
    "class mahasiswa():\n",
    "    def __init__(self,nama,alamat,umur,jenis_kelamin):\n",
    "        self.nama = nama\n",
    "        self.alamat = alamat\n",
    "        self.umur = umur\n",
    "        self.jenis_kelamin = jenis_kelamin\n",
    "        print('(nama mahasiswa : {})'.format(self.nama))\n",
    "    \n",
    "    def tell(self):\n",
    "        print('Nama: \"{}\" alamat:\"{}\"'.format(self.nama,self.alamat), end=\" \")\n",
    "\n",
    "class kampus(mahasiswa):\n",
    "    def __init__(self,nama,alamat,no_telepon,kode_pos):\n",
    "        mahasiswa.__init__(self,nama,alamat,no_telepon,kode_pos)\n",
    "        self.no_telepon = no_telepon\n",
    "        self.kode_pos = kode_pos\n",
    "        print('(kuliah di : {})'.format(self.nama))\n",
    "    \n",
    "    def tell(self):\n",
    "        mahasiswa.tell(self)\n",
    "        print('no telepon : \"{}\"'.format(self.no_telepon))\n",
    "        print('Kode pos : \"{}\"'.format(self.kode_pos))\n",
    "\n",
    "mhs = mahasiswa('cinta','wonogiri',21,'P')\n",
    "kmps = kampus('uad','jogja',12345,57662)\n",
    "\n",
    "print()\n",
    "\n",
    "total = [mhs,kmps]\n",
    "for anggota in total:\n",
    "    anggota.tell()"
   ]
  },
  {
   "cell_type": "code",
   "execution_count": null,
   "metadata": {},
   "outputs": [],
   "source": [
    "def bubble_sort(list):\n",
    "    iterasi = 0\n",
    "    for j in range (len(list)-1):\n",
    "        for i in range(len(list)-1-j):\n",
    "            if list[i]>list[i+1]:\n",
    "                list[i],list[i+1]=list[i+1],list[i]\n",
    "        iterasi+=1\n",
    "        print(iterasi, list)"
   ]
  },
  {
   "cell_type": "code",
   "execution_count": null,
   "metadata": {},
   "outputs": [],
   "source": [
    "def fib(n):    # write Fibonacci series up to n\n",
    "    a, b = 0, 1\n",
    "    while a < n:\n",
    "        print(a, end=' ')\n",
    "        a, b = b, a+b\n",
    "    print()\n",
    "\n",
    "def fib2(n):   # return Fibonacci series up to n\n",
    "    result = []\n",
    "    a, b = 0, 1\n",
    "    while a < n:\n",
    "        result.append(a)\n",
    "        a, b = b, a+b\n",
    "    return result\n",
    "  \n",
    "if __name__ == \"__main__\":\n",
    "    import sys\n",
    "    fib(int(sys.argv[1]))"
   ]
  },
  {
   "cell_type": "code",
   "execution_count": null,
   "metadata": {},
   "outputs": [],
   "source": [
    "import pickle\n",
    "\n",
    "class animal:\n",
    "    def __init__(self,number_of_paws,color):\n",
    "        self.number_of_paws = number_of_paws\n",
    "        self.color = color\n",
    "    \n",
    "class sheep(animal):\n",
    "    def __init__(self,color):\n",
    "        animal.__init__(self,4,color)\n",
    "\n",
    "mary = sheep(\"white\")\n",
    "\n",
    "print(str.format(\"my sheep mary is {0} and has {1} paws\",mary.color,mary.number_f_paws))\n",
    "my_picked_mary = pickle.dumps(mary)\n",
    "\n",
    "print(\"would you like to see her pickled ? here she is\")\n",
    "print (my_picked_mary)\n",
    "\n",
    "####################################\n",
    "\n",
    "binary_file = open('my_pickled_mary.bin', mode='wb')\n",
    "my_picked_mary = pickle.dump(mary, binary_file)\n",
    "binary_file.close()"
   ]
  }
 ]
}