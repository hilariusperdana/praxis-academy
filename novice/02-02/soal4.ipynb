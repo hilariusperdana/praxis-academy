{
 "metadata": {
  "language_info": {
   "codemirror_mode": {
    "name": "ipython",
    "version": 3
   },
   "file_extension": ".py",
   "mimetype": "text/x-python",
   "name": "python",
   "nbconvert_exporter": "python",
   "pygments_lexer": "ipython3",
   "version": "3.8.5-final"
  },
  "orig_nbformat": 2,
  "kernelspec": {
   "name": "python3",
   "display_name": "Python 3",
   "language": "python"
  }
 },
 "nbformat": 4,
 "nbformat_minor": 2,
 "cells": [
  {
   "cell_type": "code",
   "execution_count": 1,
   "metadata": {},
   "outputs": [
    {
     "output_type": "stream",
     "name": "stdout",
     "text": [
      "['13b', 'aa1', 1.32, 22.1]\n"
     ]
    }
   ],
   "source": [
    "#latihan 1\n",
    "a = ['1', '13b', 'aa1', 1.32, 22.1, 2.34]\n",
    "    # slicing list\n",
    "print (a[1:5])\n",
    "\n",
    "# Expected Output :\n",
    "\n",
    "# [ '13b', 'aa1', 1.32, 22.1 ]"
   ]
  },
  {
   "cell_type": "code",
   "execution_count": 13,
   "metadata": {},
   "outputs": [
    {
     "output_type": "stream",
     "name": "stdout",
     "text": [
      "[[1.32, 22.1, 2.34], ['1', '13b', 'aa1'], [3, 40, 100]]\n"
     ]
    }
   ],
   "source": [
    "#latihan 2\n",
    "a = [1.32, 22.1, 2.34]\n",
    "b = ['1', '13b', 'aa1']\n",
    "c = [3, 40, 100]\n",
    "    # combine list\n",
    "print([a,b,c])\n",
    "# Expected Output :\n",
    "\n",
    "# [ [1.32, 22.1, 2.34], [3, 40, 100], ['1', '13b', 'aa1'] ]"
   ]
  },
  {
   "cell_type": "code",
   "execution_count": 9,
   "metadata": {},
   "outputs": [
    {
     "output_type": "stream",
     "name": "stdout",
     "text": [
      "[0, 6]\n"
     ]
    }
   ],
   "source": [
    "#latihan 3\n",
    "a = [\n",
    "    [5, 9, 8],\n",
    "    [0, 0, 6]\n",
    "    ]\n",
    "    # subsetting list\n",
    "x = a[1]\n",
    "print(x[1:3])\n",
    "\n",
    "# Expected Output :\n",
    "\n",
    "# [0, 6]"
   ]
  },
  {
   "cell_type": "code",
   "execution_count": 5,
   "metadata": {},
   "outputs": [
    {
     "output_type": "stream",
     "name": "stdout",
     "text": [
      "[0, 2, 4, 5, 9, 10]\n10\n"
     ]
    }
   ],
   "source": [
    "#latihan 4\n",
    "p = [0, 5, 2, 10, 4, 9]\n",
    "    # ordered list\n",
    "print(sorted(p, reverse=False))\n",
    "    # get max value of list\n",
    "print(max(p))\n",
    "\n",
    "\n",
    "# Expected Output :\n",
    "\n",
    "# [0, 2, 4, 5, 9, 10]\n",
    "\n",
    "# 10"
   ]
  },
  {
   "cell_type": "code",
   "execution_count": 4,
   "metadata": {},
   "outputs": [
    {
     "output_type": "stream",
     "name": "stdout",
     "text": [
      "[5, 1, 3, 1, 3, 5]\n"
     ]
    }
   ],
   "source": [
    "#latihan 5\n",
    "a = [1, 3, 5]\n",
    "b = [5, 1, 3]\n",
    "    # combine list\n",
    "print(b+a)\n",
    "\n",
    "# Expected Output :\n",
    "\n",
    "# [5, 1, 3, 1, 3, 5]\n"
   ]
  },
  {
   "cell_type": "code",
   "execution_count": 4,
   "metadata": {},
   "outputs": [
    {
     "output_type": "stream",
     "name": "stdout",
     "text": [
      "\n\n[[5, 9, 10], [11, 0, 6]]\n"
     ]
    }
   ],
   "source": [
    "#latihan 6\n",
    "a = [\n",
    "    [5, 9, 8],\n",
    "    [0, 0, 6]\n",
    "    ]\n",
    "    # change list value\n",
    "b=a[0]\n",
    "b[2]=10\n",
    "print()\n",
    "    # change list value\n",
    "c=a[1]\n",
    "c[0]=11\n",
    "print()\n",
    "\n",
    "print(a)\n",
    "\n",
    "# Expected Output :\n",
    "\n",
    "# [ [5, 9, 10], [11, 0, 6] ]\n"
   ]
  },
  {
   "cell_type": "code",
   "execution_count": 7,
   "metadata": {},
   "outputs": [
    {
     "output_type": "stream",
     "name": "stdout",
     "text": [
      "['hallway', 11.25, 'kitchen', 18.0, 'chill zone', 20.0, 'bedroom', 10.75, 'poolhouse', 24.5, 'garage', 15.45]\n"
     ]
    }
   ],
   "source": [
    "#latihan 7\n",
    "areas = [\"hallway\", 11.25, \"kitchen\", 18.0,\n",
    "         \"chill zone\", 20.0, \"bedroom\", 10.75,\n",
    "         \"bathroom\", 10.50, \"poolhouse\", 24.5,\n",
    "         \"garage\", 15.45]\n",
    "\n",
    "    # Hilangkan elemen yang bernilai \"bathroom\" dan 10.50 dalam satu statement code\n",
    "del areas[8:10]\n",
    "print(areas)\n",
    "\n",
    "# Expected Output:\n",
    "\n",
    "# ['hallway', 11.25, 'kitchen', 18.0, 'chill zone', 20.0, 'bedroom', 10.75, 'poolhouse', 24.5, 'garage', 15.45]"
   ]
  },
  {
   "cell_type": "code",
   "execution_count": 14,
   "metadata": {},
   "outputs": [
    {
     "output_type": "stream",
     "name": "stdout",
     "text": [
      "[0, 4, 16, 36, 64]\n"
     ]
    }
   ],
   "source": [
    "#latihan 8\n",
    "S = [0, 1, 4, 9, 16, 25, 36, 49, 64, 81]\n",
    "\n",
    "T = [x for x in S if x%2==0]\n",
    "print(T)\n",
    "\n",
    "# Expected Output:\n",
    "\n",
    "# [0, 4, 16, 36, 64]"
   ]
  },
  {
   "cell_type": "code",
   "execution_count": 22,
   "metadata": {},
   "outputs": [
    {
     "output_type": "stream",
     "name": "stdout",
     "text": [
      "dict_keys(['spain', 'france', 'germany', 'norway'])\nparis\n"
     ]
    }
   ],
   "source": [
    "#latihan 9\n",
    "europe = {'spain':'madrid', 'france':'paris', 'germany':'berlin', 'norway':'oslo' }\n",
    "\n",
    "    # print semua key yang ada di objek europe\n",
    "x=dict.keys(europe)\n",
    "print (x)\n",
    "    # print nilai dari key franche\n",
    "print (europe['france'])\n",
    "\n",
    "# Expected Output:\n",
    "\n",
    "# dict_keys(['spain', 'france', 'germany', 'norway'])\n",
    "\n",
    "# paris"
   ]
  },
  {
   "cell_type": "code",
   "execution_count": 3,
   "metadata": {},
   "outputs": [
    {
     "output_type": "stream",
     "name": "stdout",
     "text": [
      "{'spain': 'madrid', 'france': 'paris', 'germany': 'berlin', 'norway': 'oslo', 'itali': 'roma'}\nTrue\n"
     ]
    }
   ],
   "source": [
    "#latihan 10\n",
    "europe = {'spain':'madrid', 'france':'paris', 'germany':'berlin', 'norway':'oslo' }\n",
    "\n",
    "    # tambahkan key itali ke objek dictionary dengan value roma\n",
    "europe['itali']='roma'\n",
    "print(europe)\n",
    "    # cek apakah itali ada di dalam objek dictionary\n",
    "if 'itali' in europe:\n",
    "    x = True\n",
    "    print(x)\n",
    "\n",
    "# Expected Output:\n",
    "\n",
    "# True"
   ]
  },
  {
   "cell_type": "code",
   "execution_count": 32,
   "metadata": {},
   "outputs": [
    {
     "output_type": "stream",
     "name": "stdout",
     "text": [
      "{'spain': 'madrid', 'france': 'paris', 'germany': 'berlin', 'norway': 'oslo', 'italy': 'rome', 'poland': 'warsaw'}\n"
     ]
    }
   ],
   "source": [
    "#latihan 11\n",
    "europe = {'spain':'madrid', 'france':'paris', 'germany':'bonn',\n",
    "            'norway':'oslo', 'italy':'rome', 'poland':'warsaw',\n",
    "            'australia':'vienna' }\n",
    "\n",
    "    # update nilai ibukota german ke berlin\n",
    "europe['germany']= 'berlin'\n",
    "    # remove australia dari europa\n",
    "del europe['australia']\n",
    "print(europe)\n",
    "\n",
    "# Expected Output:\n",
    "\n",
    "# {'spain': 'madrid', 'france': 'paris', 'germany': 'berlin', 'norway': 'oslo', 'italy': 'rome', 'poland': 'warsaw'}\n"
   ]
  },
  {
   "cell_type": "code",
   "execution_count": 20,
   "metadata": {},
   "outputs": [
    {
     "output_type": "stream",
     "name": "stdout",
     "text": [
      "80.62\n{'spain': {'capital': 'madrid', 'population': 46.77}, 'france': {'capital': 'paris', 'population': 66.03}, 'germany': {'capital': 'berlin', 'population': 80.62}, 'norway': {'capital': 'oslo', 'population': 5.084}, 'indonesia': {'capital': 'jakarta', 'population': 250}}\n"
     ]
    }
   ],
   "source": [
    "#latihan 12\n",
    "country = { \n",
    "            'spain': { 'capital':'madrid', 'population':46.77 },\n",
    "            'france': { 'capital':'paris', 'population':66.03 },\n",
    "            'germany': { 'capital':'berlin', 'population':80.62 },\n",
    "            'norway': { 'capital':'oslo', 'population':5.084 } \n",
    "            }\n",
    "\n",
    "    # berapa populasi dari kota german?\n",
    "x = country['germany']\n",
    "y = x['population']\n",
    "print (y)\n",
    "    # update data baru, yaitu negara indonesia dengan capital jakarta dan poulasi 250\n",
    "country['indonesia']={'capital':'jakarta' , 'population':250}\n",
    "print(country)\n",
    "\n",
    "# Expected Output:\n",
    "\n",
    "# 80.62\n",
    "\n",
    "# {'spain': {'capital': 'madrid', 'population': 46.77}, 'france': {'capital': 'paris', 'population': 66.03}, 'germany': {'capital': 'berlin', 'population': 80.62}, 'norway': {'capital': 'oslo', 'population': 5.084}, 'indonesia': {'capital': 'jakarta', 'population': 250}}"
   ]
  },
  {
   "cell_type": "code",
   "execution_count": 10,
   "metadata": {},
   "outputs": [
    {
     "output_type": "stream",
     "name": "stdout",
     "text": [
      "Ibukota spain adalah madrid\nIbukota france adalah paris\nIbukota germany adalah berlin\nIbukota norway adalah oslo\nIbukota indonesia adalah jakarta\n"
     ]
    }
   ],
   "source": [
    "#latihan13\n",
    "country = { \n",
    "            'spain': { 'capital':'madrid', 'population':46.77 },\n",
    "            'france': { 'capital':'paris', 'population':66.03 },\n",
    "            'germany': { 'capital':'berlin', 'population':80.62 },\n",
    "            'norway': { 'capital':'oslo', 'population':5.084 },\n",
    "            'indonesia' : {'capital':'jakarta', 'population':250}\n",
    "            }\n",
    "\n",
    "for i in country:\n",
    "     \n",
    "    print('Ibukota '+ i +' adalah '+ country[i]['capital'])\n",
    "\n",
    "# Expected Output:\n",
    "\n",
    "# Ibukota spain adalah madrid\n",
    "\n",
    "# Ibukota france adalah paris\n",
    "\n",
    "# Ibukota germany adalah berlin\n",
    "\n",
    "# Ibukota norway adalah oslo\n",
    "\n",
    "# Ibukota indonesia adalah jakarta"
   ]
  },
  {
   "cell_type": "code",
   "execution_count": null,
   "metadata": {},
   "outputs": [],
   "source": []
  }
 ]
}